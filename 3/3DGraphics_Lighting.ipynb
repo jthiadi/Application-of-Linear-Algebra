{
  "cells": [
    {
      "cell_type": "markdown",
      "metadata": {
        "id": "kDACXMe7nuJo"
      },
      "source": [
        "# Linear algebra Homework assignment 3"
      ]
    },
    {
      "cell_type": "code",
      "execution_count": 1,
      "metadata": {
        "id": "upxRk8bynuJr"
      },
      "outputs": [],
      "source": [
        "import numpy as np\n",
        "import math as m\n",
        "import matplotlib.pyplot as plt\n",
        "from mpl_toolkits.mplot3d.art3d import Poly3DCollection\n",
        "import imageio\n",
        "import os"
      ]
    },
    {
      "cell_type": "markdown",
      "metadata": {
        "id": "3wXjU9dHnuJr"
      },
      "source": [
        "## Problem 1 - 4"
      ]
    },
    {
      "cell_type": "code",
      "execution_count": 2,
      "metadata": {
        "id": "uZnO49jjnuJs"
      },
      "outputs": [],
      "source": [
        "# [TODO]\n",
        "def compute_lookat(azim: float, elev: float):\n",
        "    \"\"\"\n",
        "        Compute the look at vector. (Definition in Figure 3)\n",
        "        azim: float, degree in [-180, 180],\n",
        "        elev: float, degree in [-180, 180]\n",
        "    \"\"\"\n",
        "\n",
        "    # For the definition of azim and elev, check\n",
        "    # https://matplotlib.org/stable/api/toolkits/mplot3d/view_angles.html\n",
        "\n",
        "    # convert degrees to radians\n",
        "    azim_rad = np.radians(azim)\n",
        "    elev_rad = np.radians(elev)\n",
        "\n",
        "    a = np.cos(elev_rad)  # projection of the vector onto the XY-plane\n",
        "    b = np.sin(elev_rad)  # vertical component\n",
        "\n",
        "    # compute the look-at vector\n",
        "    lookat = np.array([a * np.cos(azim_rad),  # X-component\n",
        "                       a * np.sin(azim_rad),  # Y-component\n",
        "                       b])                    # Z-component\n",
        "\n",
        "    # normalize the look-at vector\n",
        "    lookat = lookat / np.linalg.norm(lookat)\n",
        "\n",
        "    return lookat"
      ]
    },
    {
      "cell_type": "code",
      "execution_count": 3,
      "metadata": {
        "id": "_kvHRHu-nuJs"
      },
      "outputs": [],
      "source": [
        "# [TODO]\n",
        "def compute_normal(P1: tuple, P2: tuple, P3: tuple):\n",
        "    \"\"\"\n",
        "        Compute the normal vector, given P1, P2, P3 in counter-clockwise order.\n",
        "    \"\"\"\n",
        "\n",
        "    # compute vectors representing edges of the triangle\n",
        "    v1 = np.array(P2) - np.array(P1)  # vector from P1 to P2\n",
        "    v2 = np.array(P3) - np.array(P1)  # vector from P1 to P3\n",
        "\n",
        "    # compute the cross product of the edges to get the normal vector\n",
        "    normal = np.cross(v1, v2)\n",
        "    normal = normal / np.linalg.norm(normal)\n",
        "\n",
        "    return normal"
      ]
    },
    {
      "cell_type": "code",
      "execution_count": 4,
      "metadata": {
        "id": "18gbFGceowOH"
      },
      "outputs": [],
      "source": [
        "# [TODO]\n",
        "def visible(face_normal: np.ndarray, lookat: np.ndarray):\n",
        "    \"\"\"\n",
        "        Given a normal vector of a face, determine if the face (outward-facing side) is visible\n",
        "    \"\"\"\n",
        "\n",
        "    # use the normal vector of the triangle and the lookat direction\n",
        "    dot_product = np.dot(face_normal, lookat)\n",
        "\n",
        "    # the face is visible if the dot product is positive\n",
        "    return dot_product > 0"
      ]
    },
    {
      "cell_type": "code",
      "execution_count": 5,
      "metadata": {
        "id": "oUmo5WLzoz5_"
      },
      "outputs": [],
      "source": [
        "def compute_intensity(face_normal: np.ndarray, lookat: np.ndarray, lightsource: np.ndarray):\n",
        "    \"\"\"\n",
        "    Given normal vector of a face (face_normal), viewing vector (lookat) and lightsource (lightsource),\n",
        "    compute the specular intensity.\n",
        "    \"\"\"\n",
        "    # Compute the reflection vector R\n",
        "    reflect = (2 * np.dot(face_normal, lightsource) * face_normal) - lightsource\n",
        "\n",
        "    # constants, adjust accordingly\n",
        "    n = 0.3                 # shininess\n",
        "    min_intensity = 0.1     # minimal intensity so it won't be black\n",
        "\n",
        "    # Compute the dot product of R and V\n",
        "    cos_beta = np.dot(reflect, lookat)\n",
        "\n",
        "    normalize_range = (cos_beta + 1) / 2 # range from 0 to 1 so no black\n",
        "\n",
        "    intensity = max(min_intensity, normalize_range) ** n\n",
        "    # Compute the intensity using the Phong reflection model\n",
        "    #if cos_beta > 0:\n",
        "    #    intensity = cos_beta  ** n\n",
        "    #else:\n",
        "    #    intensity = 0.0  # no specular reflection\n",
        "\n",
        "    return intensity"
      ]
    },
    {
      "cell_type": "markdown",
      "metadata": {
        "id": "CZExOaUJnuJt"
      },
      "source": [
        "## Problem 5\n",
        "Perform at least two tasks from the following list, and describe what you have done\n",
        "\n",
        "- Change a model (please choose a convex object).\n",
        "- Give each face of the model a different color.\n",
        "- Change the movemnt of the light source.\n",
        "- Other interesting changes"
      ]
    },
    {
      "cell_type": "code",
      "execution_count": 6,
      "metadata": {
        "id": "u8WpO6WkBihD"
      },
      "outputs": [],
      "source": [
        "def read_obj_file(file_path):\n",
        "    vertices = []\n",
        "    faces = []\n",
        "\n",
        "    with open(file_path, 'r') as file:\n",
        "        for line in file:\n",
        "            if line.startswith('v '):\n",
        "                vertex = list(map(float, line.strip().split()[1:]))\n",
        "                vertices.append(vertex)\n",
        "            elif line.startswith('f '):\n",
        "                face = [int(index.split('/')[0]) for index in line.strip().split()[1:]]\n",
        "                faces.append(face)\n",
        "\n",
        "    return np.array(vertices), np.array(faces)"
      ]
    },
    {
      "cell_type": "code",
      "execution_count": 9,
      "metadata": {
        "id": "uVmsPaS0rLo1",
        "colab": {
          "base_uri": "https://localhost:8080/"
        },
        "outputId": "f8882a52-1dcc-4ebc-f688-bed3ec0836ab"
      },
      "outputs": [
        {
          "output_type": "stream",
          "name": "stderr",
          "text": [
            "<ipython-input-9-1a642537b971>:63: DeprecationWarning: Starting with ImageIO v3 the behavior of this function will switch to that of iio.v3.imread. To keep the current behavior (and make this warning disappear) use `import imageio.v2 as imageio` or call `imageio.v2.imread` directly.\n",
            "  frames.append(imageio.imread(fname))\n"
          ]
        }
      ],
      "source": [
        "# Read .obj file\n",
        "obj_file_path = 'dodecahedron.obj'\n",
        "#obj_file_path = 'icosahedron_modified.obj'\n",
        "vertices, faces = read_obj_file(obj_file_path)\n",
        "\n",
        "# Center the object\n",
        "center = np.mean(vertices, axis=0)\n",
        "vertices = vertices - center\n",
        "\n",
        "# Get object dimensions for plotting\n",
        "max_x = np.max(vertices[:, 0])\n",
        "min_x = np.min(vertices[:, 0])\n",
        "max_y = np.max(vertices[:, 1])\n",
        "min_y = np.min(vertices[:, 1])\n",
        "max_z = np.max(vertices[:, 2])\n",
        "min_z = np.min(vertices[:, 2])\n",
        "\n",
        "#basecolor = np.array([0, 1, 0.7])\n",
        "basecolor = np.array([0.8, 0.5, 1.0]) # changed the model to light purple\n",
        "#basecolor = np.random.rand(len(faces), 3)  # random RGB values for each face\n",
        "\n",
        "# list to store frames for the GIF\n",
        "frames = []\n",
        "\n",
        "# number of frames for the animation\n",
        "num_frames = 100\n",
        "\n",
        "# loop to create frames with varying light source positions\n",
        "for i in range(num_frames):\n",
        "    fig = plt.figure()\n",
        "    ax = plt.axes(projection='3d')\n",
        "    ax.set_axis_off()\n",
        "    ax.set_xlim(min_x, max_x), ax.set_ylim(min_y, max_y), ax.set_zlim(min_z, max_z)\n",
        "    ax.view_init(azim=60, elev=30)\n",
        "\n",
        "    lookat = compute_lookat(ax.azim, ax.elev)\n",
        "\n",
        "    phi = 2 * np.pi * i / num_frames  # angle for light source movement\n",
        "    lightsource = np.array([np.cos(phi), np.sin(phi), np.sin(phi)])\n",
        "    lightsource = lightsource / np.linalg.norm(lightsource)\n",
        "\n",
        "    # Plot faces\n",
        "    for face in faces:\n",
        "        P1, P2, P3 = vertices[face[0] - 1], vertices[face[1] - 1], vertices[face[2] - 1]\n",
        "        face_normal = compute_normal(P1, P2, P3)\n",
        "\n",
        "        if visible(face_normal, lookat):\n",
        "            specular_intensity = compute_intensity(face_normal, lookat, lightsource)\n",
        "            color = basecolor * specular_intensity\n",
        "            color = np.clip(color, 0.0, 1.0)\n",
        "\n",
        "            ax.add_collection3d(Poly3DCollection(\n",
        "                [np.array([P1, P2, P3])],\n",
        "                color=color, edgecolor='white', linewidth=1\n",
        "            ))\n",
        "\n",
        "    # save the current frame to a temporary file\n",
        "    fname = f'temp_frame_{i}.png'\n",
        "    plt.savefig(fname)\n",
        "    plt.close(fig)  # close the figure to release resources\n",
        "\n",
        "    # read the saved frame and append it to the frames list\n",
        "    frames.append(imageio.imread(fname))\n",
        "\n",
        "    # remove the temporary frame file\n",
        "    os.remove(fname)\n",
        "\n",
        "# create GIF from the collected frames\n",
        "studentID = '112006234'  # replace with your student ID\n",
        "gif_fname = f'HW3_{studentID}.gif'\n",
        "imageio.mimsave(gif_fname, frames, fps=10)  # adjust fps as necessary\n",
        "\n",
        "first_frame_fname = f'HW3_{studentID}.png'\n",
        "imageio.imwrite(first_frame_fname, frames[0]) # save first frame"
      ]
    },
    {
      "cell_type": "markdown",
      "source": [
        "# New Section"
      ],
      "metadata": {
        "id": "JXejyIbZq3RD"
      }
    },
    {
      "cell_type": "markdown",
      "source": [
        "Changes made:\n",
        "1. Made a dynamic movement to the light source by varying its position over 100 frames. Specifically, the light source rotates in a circular path over the course of an animation, with its position defined by:\n",
        "phi = 2 * np.pi * i / num_frames  #\n",
        "lightsource = np.array([np.cos(phi), np.sin(phi), np.sin(phi)])\n",
        "\n",
        "2. Changed the color from green to purple, I changed it only to shades of purple because if I made all faces as a different random color, it would be hard to classify the correctness according to the lightsource. I also tried using basecolor = np.random.rand(len(faces), 3) to make the model into shades of different color.\n",
        "\n",
        "3. Animating the model's appearance with dynamic lighting and saved the sequence as a GIF file (HW3_112006234.gif)\n",
        "\n",
        "4. Changed the object file to dodecahedron.obj\n",
        "\n",
        "5. Declared a minimal intensity and made sure the range of cos(beta) is between 0 and 1 for aesthetic purposes\n",
        "\n"
      ],
      "metadata": {
        "id": "XjURvA1u8JON"
      }
    },
    {
      "cell_type": "markdown",
      "metadata": {
        "id": "XoU755G_rL_e"
      },
      "source": [
        "## Problem 6\n",
        "There is a type of terms, called **vn** (vertex normal), in the obj file.\n",
        "However, it record vn as each\n",
        "\n",
        "Please look up the definition of vertex normal and implement it accordingly. The OBJ\n",
        "file with the corrected vertex normals is icosahedron modified.obj."
      ]
    },
    {
      "cell_type": "code",
      "execution_count": 10,
      "metadata": {
        "id": "YLLNgGj0rNY4"
      },
      "outputs": [],
      "source": [
        "from collections import defaultdict\n",
        "\n",
        "def load_obj(file_path):\n",
        "    vertices = []\n",
        "    faces = []\n",
        "    vertex_normals = []\n",
        "\n",
        "    with open(file_path, 'r') as f:\n",
        "        for line in f:\n",
        "            line = line.strip()\n",
        "            if not line or line.startswith('#'):\n",
        "                continue\n",
        "\n",
        "            values = line.split()\n",
        "            if not values:\n",
        "                continue\n",
        "\n",
        "            if values[0] == 'v':\n",
        "                vertices.append([float(x) for x in values[1:4]])\n",
        "            elif values[0] == 'vn':\n",
        "                vertex_normals.append([float(x) for x in values[1:4]])\n",
        "            elif values[0] == 'f':\n",
        "                vertex_indices = []\n",
        "                normal_indices = []\n",
        "\n",
        "                for vertex in values[1:]:\n",
        "                    # deal with v//vn\n",
        "                    if '//' in vertex:\n",
        "                        v_idx, _, n_idx = vertex.split('/')\n",
        "                        vertex_indices.append(int(v_idx) - 1)\n",
        "                        normal_indices.append(int(n_idx) - 1)\n",
        "                    # deal with v\n",
        "                    else:\n",
        "                        vertex_indices.append(int(vertex) - 1)\n",
        "\n",
        "                faces.append(vertex_indices)\n",
        "\n",
        "    return np.array(vertices), np.array(faces), np.array(vertex_normals)"
      ]
    },
    {
      "cell_type": "code",
      "execution_count": 11,
      "metadata": {
        "id": "zQK8BSvPBihH"
      },
      "outputs": [],
      "source": [
        "def compute_vertex_normals(vertices, faces):\n",
        "    # Initialize an array to store normals for each vertex\n",
        "    vertex_normals = np.zeros_like(vertices)\n",
        "\n",
        "    for face in faces:\n",
        "        # Extract the vertices of the face\n",
        "        P1, P2, P3 = vertices[face[0]], vertices[face[1]], vertices[face[2]]\n",
        "\n",
        "        # Compute the face normal\n",
        "        face_normal = np.cross(P2 - P1, P3 - P1)\n",
        "        face_normal /= np.linalg.norm(face_normal)\n",
        "\n",
        "        # Accumulate the face normal to each vertex in the face\n",
        "        vertex_normals[face[0]] += face_normal\n",
        "        vertex_normals[face[1]] += face_normal\n",
        "        vertex_normals[face[2]] += face_normal\n",
        "\n",
        "    # Normalize the accumulated vertex normals\n",
        "    norms = np.linalg.norm(vertex_normals, axis=1, keepdims=True)\n",
        "    vertex_normals = vertex_normals / norms  # Avoid division by zero\n",
        "\n",
        "    return vertex_normals\n"
      ]
    },
    {
      "cell_type": "code",
      "execution_count": null,
      "metadata": {
        "id": "WhSx-rXsBihI"
      },
      "outputs": [],
      "source": [
        "obj_path = \"icosahedron_modified.obj\"\n",
        "vertices, faces, vn = load_obj(obj_path)\n",
        "vertex_normals = compute_vertex_normals(vertices, faces)\n",
        "\n",
        "print(\"vertex normal：\")\n",
        "for i, normal in enumerate(vertex_normals):\n",
        "     print(f\"v{i+1:02d} normal: [{normal[0]:.6f}, {normal[1]:.6f}, {normal[2]:.6f}]\")\n",
        "\n",
        "if (np.allclose(vertex_normals, vn)):\n",
        "    print(\"PASS\")\n",
        "else :\n",
        "    print(\"ERROR\")"
      ]
    }
  ],
  "metadata": {
    "colab": {
      "provenance": []
    },
    "kernelspec": {
      "display_name": "Python 3",
      "language": "python",
      "name": "python3"
    },
    "language_info": {
      "codemirror_mode": {
        "name": "ipython",
        "version": 3
      },
      "file_extension": ".py",
      "mimetype": "text/x-python",
      "name": "python",
      "nbconvert_exporter": "python",
      "pygments_lexer": "ipython3",
      "version": "3.8.6"
    }
  },
  "nbformat": 4,
  "nbformat_minor": 0
}